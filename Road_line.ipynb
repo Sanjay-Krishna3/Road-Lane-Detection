{
  "nbformat": 4,
  "nbformat_minor": 0,
  "metadata": {
    "colab": {
      "name": "Road_line.ipynb",
      "provenance": []
    },
    "kernelspec": {
      "name": "python3",
      "display_name": "Python 3"
    },
    "language_info": {
      "name": "python"
    },
    "accelerator": "GPU"
  },
  "cells": [
    {
      "cell_type": "code",
      "source": [
        "import numpy as np\n",
        "import cv2\n",
        "from scipy.misc import imresize\n",
        "from moviepy.editor import VideoFileClip\n",
        "from IPython.display import HTML\n",
        "from keras.models import load_model\n"
      ],
      "metadata": {
        "id": "n-LnSp_oQWcu"
      },
      "execution_count": 6,
      "outputs": []
    },
    {
      "cell_type": "code",
      "source": [
        "class Lanes():\n",
        "    def __init__(self):\n",
        "        self.recent_fit = []\n",
        "        self.avg_fit = []\n",
        "\n",
        "\n",
        "def road_lines(image):\n",
        "    \"\"\" Takes in a road image, re-sizes for the model,\n",
        "    predicts the lane to be drawn from the model in G color,\n",
        "    recreates an RGB image of a lane and merges with the\n",
        "    original road image.\n",
        "    \"\"\"\n",
        "\n",
        "    # Get image ready for feeding into model\n",
        "    \n",
        "    #small_img = cv2.resize(image, (160, 80))\n",
        "    small_img = imresize(image, (80, 160, 3))\n",
        "    small_img = np.array(small_img)\n",
        "    small_img = small_img[None,:,:,:]\n",
        "\n",
        "    # Make prediction with neural network (un-normalize value by multiplying by 255)\n",
        "    prediction = model.predict(small_img)[0] * 255\n",
        "\n",
        "    # Add lane prediction to list for averaging\n",
        "    lanes.recent_fit.append(prediction)\n",
        "    # Only using last five for average\n",
        "    if len(lanes.recent_fit) > 5:\n",
        "        lanes.recent_fit = lanes.recent_fit[1:]\n",
        "\n",
        "    # Calculate average detection\n",
        "    lanes.avg_fit = np.mean(np.array([i for i in lanes.recent_fit]), axis = 0)\n",
        "\n",
        "    # Generate fake R & B color dimensions, stack with G\n",
        "    blanks = np.zeros_like(lanes.avg_fit).astype(np.uint8)\n",
        "    lane_drawn = np.dstack((blanks, lanes.avg_fit, blanks))\n",
        "\n",
        "    # Re-size to match the original image\n",
        "    #lane_image = cv2.resize(lane_drawn, (1280,720))\n",
        "    lane_image = imresize(lane_drawn, (720, 1280, 3))\n",
        "    # Merge the lane drawing onto the original image\n",
        "    result = cv2.addWeighted(image, 1, lane_image, 1, 0)\n",
        "\n",
        "    return result\n",
        "\n",
        "\n",
        "if __name__ == '__main__':\n",
        "    # Load Keras model\n",
        "    model = load_model('/content/drive/MyDrive/Lane detection/Lane_detection2.h5')\n",
        "    # Create lanes object\n",
        "    lanes = Lanes()\n",
        "\n",
        "    # Where to save the output video\n",
        "    vid_output = 'nightlight_test_output.mp4'\n",
        "    # Location of the input video\n",
        "    clip1 = VideoFileClip(\"/content/drive/MyDrive/Lane detection/nightlight test.mp4\")\n",
        "    # Create the clip\n",
        "    vid_clip = clip1.fl_image(road_lines)\n",
        "    vid_clip.write_videofile(vid_output, audio=False)\n"
      ],
      "metadata": {
        "colab": {
          "base_uri": "https://localhost:8080/"
        },
        "id": "V3b8uVLvK4-X",
        "outputId": "e0fa99de-767b-4ecf-f3e7-346e8a32c027"
      },
      "execution_count": 7,
      "outputs": [
        {
          "output_type": "stream",
          "name": "stdout",
          "text": [
            "[MoviePy] >>>> Building video nightlight_test_output.mp4\n",
            "[MoviePy] Writing video nightlight_test_output.mp4\n"
          ]
        },
        {
          "output_type": "stream",
          "name": "stderr",
          "text": [
            "100%|██████████| 2370/2370 [04:50<00:00,  8.15it/s]\n"
          ]
        },
        {
          "output_type": "stream",
          "name": "stdout",
          "text": [
            "[MoviePy] Done.\n",
            "[MoviePy] >>>> Video ready: nightlight_test_output.mp4 \n",
            "\n"
          ]
        }
      ]
    },
    {
      "cell_type": "code",
      "source": [
        "!pip install scipy==1.1.0"
      ],
      "metadata": {
        "colab": {
          "base_uri": "https://localhost:8080/"
        },
        "id": "XTXCoU0VSrXS",
        "outputId": "d98588db-978a-4017-a56f-606cced3167f"
      },
      "execution_count": 1,
      "outputs": [
        {
          "output_type": "stream",
          "name": "stdout",
          "text": [
            "Collecting scipy==1.1.0\n",
            "  Downloading scipy-1.1.0-cp37-cp37m-manylinux1_x86_64.whl (31.2 MB)\n",
            "\u001b[K     |████████████████████████████████| 31.2 MB 173 kB/s \n",
            "\u001b[?25hRequirement already satisfied: numpy>=1.8.2 in /usr/local/lib/python3.7/dist-packages (from scipy==1.1.0) (1.21.5)\n",
            "Installing collected packages: scipy\n",
            "  Attempting uninstall: scipy\n",
            "    Found existing installation: scipy 1.4.1\n",
            "    Uninstalling scipy-1.4.1:\n",
            "      Successfully uninstalled scipy-1.4.1\n",
            "\u001b[31mERROR: pip's dependency resolver does not currently take into account all the packages that are installed. This behaviour is the source of the following dependency conflicts.\n",
            "pymc3 3.11.4 requires scipy>=1.2.0, but you have scipy 1.1.0 which is incompatible.\n",
            "plotnine 0.6.0 requires scipy>=1.2.0, but you have scipy 1.1.0 which is incompatible.\n",
            "jax 0.3.4 requires scipy>=1.2.1, but you have scipy 1.1.0 which is incompatible.\n",
            "albumentations 0.1.12 requires imgaug<0.2.7,>=0.2.5, but you have imgaug 0.2.9 which is incompatible.\u001b[0m\n",
            "Successfully installed scipy-1.1.0\n"
          ]
        }
      ]
    }
  ]
}